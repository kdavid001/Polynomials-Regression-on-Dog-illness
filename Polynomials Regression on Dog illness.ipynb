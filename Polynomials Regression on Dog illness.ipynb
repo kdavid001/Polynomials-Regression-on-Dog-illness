{
 "nbformat": 4,
 "nbformat_minor": 0,
 "metadata": {
  "colab": {
   "provenance": [],
   "authorship_tag": "ABX9TyO3qEEqe1dW9AzMxTvSDNpw"
  },
  "kernelspec": {
   "name": "python3",
   "display_name": "Python 3"
  },
  "language_info": {
   "name": "python"
  }
 },
 "cells": [
  {
   "cell_type": "code",
   "execution_count": null,
   "metadata": {
    "colab": {
     "base_uri": "https://localhost:8080/",
     "height": 961
    },
    "id": "3rnXBH0P28jI",
    "executionInfo": {
     "status": "ok",
     "timestamp": 1727077841571,
     "user_tz": -60,
     "elapsed": 10362,
     "user": {
      "displayName": "Korede david",
      "userId": "04917254983458292970"
     }
    },
    "outputId": "9b145369-e881-487c-92cd-4829a1256a11"
   },
   "source": [
    "import pandas\n",
    "!pip install statsmodels\n",
    "!wget https://raw.githubusercontent.com/MicrosoftDocs/mslearn-introduction-to-machine-learning/main/graphing.py\n",
    "!wget https://raw.githubusercontent.com/MicrosoftDocs/mslearn-introduction-to-machine-learning/main/Data/doggy-illness.csv\n",
    "\n",
    "#Import the data from the .csv file\n",
    "dataset = pandas.read_csv('doggy-illness.csv', delimiter=\"\\t\")\n",
    "\n",
    "#Let's have a look at the data\n",
    "dataset"
   ],
   "outputs": []
  },
  {
   "cell_type": "code",
   "source": [
    "import statsmodels.formula.api as smf\n",
    "import graphing # custom graphing code. See our GitHub repo for details\n",
    "\n",
    "# Perform linear regression. This method takes care of\n",
    "# the entire fitting procedure for us.\n",
    "simple_formula = \"core_temperature ~ protein_content_of_last_meal\"\n",
    "simple_model = smf.ols(formula = simple_formula, data = dataset).fit()\n",
    "\n",
    "# Show a graph of the result\n",
    "graphing.scatter_2D(dataset, label_x=\"protein_content_of_last_meal\",\n",
    "                             label_y=\"core_temperature\",\n",
    "                             trendline=lambda x: simple_model.params[1] * x + simple_model.params[0])\n"
   ],
   "metadata": {
    "colab": {
     "base_uri": "https://localhost:8080/",
     "height": 504
    },
    "id": "9W_qmNNb3CB9",
    "executionInfo": {
     "status": "ok",
     "timestamp": 1727077847377,
     "user_tz": -60,
     "elapsed": 5815,
     "user": {
      "displayName": "Korede david",
      "userId": "04917254983458292970"
     }
    },
    "outputId": "04406abc-0120-48c2-c662-2e6eaf9494f4"
   },
   "execution_count": null,
   "outputs": []
  },
  {
   "cell_type": "code",
   "source": [
    "print(\"R-squared:\", simple_model.rsquared)"
   ],
   "metadata": {
    "colab": {
     "base_uri": "https://localhost:8080/"
    },
    "id": "NS1OerWC3ILt",
    "executionInfo": {
     "status": "ok",
     "timestamp": 1727077852727,
     "user_tz": -60,
     "elapsed": 499,
     "user": {
      "displayName": "Korede david",
      "userId": "04917254983458292970"
     }
    },
    "outputId": "7141f5a1-2b09-4250-90cd-d46e046052eb"
   },
   "execution_count": null,
   "outputs": []
  },
  {
   "cell_type": "code",
   "source": [
    "# Perform polynomial regression. This method takes care of\n",
    "# the entire fitting procedure for us.\n",
    "polynomial_formula = \"core_temperature ~ protein_content_of_last_meal + I(protein_content_of_last_meal**2)\"\n",
    "polynomial_model = smf.ols(formula = polynomial_formula, data = dataset).fit()\n",
    "\n",
    "# Show a graph of the result\n",
    "graphing.scatter_2D(dataset, label_x=\"protein_content_of_last_meal\",\n",
    "                             label_y=\"core_temperature\",\n",
    "                             # Our trendline is the equation for the polynomial\n",
    "                             trendline=lambda x: polynomial_model.params[2] * x**2 + polynomial_model.params[1] * x + polynomial_model.params[0])\n"
   ],
   "metadata": {
    "colab": {
     "base_uri": "https://localhost:8080/",
     "height": 504
    },
    "id": "o6GdDn-13Lvf",
    "executionInfo": {
     "status": "ok",
     "timestamp": 1727077951558,
     "user_tz": -60,
     "elapsed": 547,
     "user": {
      "displayName": "Korede david",
      "userId": "04917254983458292970"
     }
    },
    "outputId": "828ba9b3-2e09-4758-e392-e43e30062a4f"
   },
   "execution_count": null,
   "outputs": []
  },
  {
   "cell_type": "code",
   "source": [
    "print(\"R-squared:\", polynomial_model.rsquared)"
   ],
   "metadata": {
    "id": "9bl6oKgT3jD_",
    "executionInfo": {
     "status": "ok",
     "timestamp": 1727077956967,
     "user_tz": -60,
     "elapsed": 773,
     "user": {
      "displayName": "Korede david",
      "userId": "04917254983458292970"
     }
    },
    "outputId": "db1b4448-09cb-46b6-d7e5-63d1a2728421",
    "colab": {
     "base_uri": "https://localhost:8080/"
    }
   },
   "execution_count": null,
   "outputs": []
  },
  {
   "cell_type": "code",
   "source": [
    "import numpy as np\n",
    "fig = graphing.surface(\n",
    "    x_values=np.array([min(dataset.protein_content_of_last_meal), max(dataset.protein_content_of_last_meal)]),\n",
    "    y_values=np.array([min(dataset.protein_content_of_last_meal)**2, max(dataset.protein_content_of_last_meal)**2]),\n",
    "    calc_z=lambda x,y: polynomial_model.params[0] + (polynomial_model.params[1] * x) + (polynomial_model.params[2] * y),\n",
    "    axis_title_x=\"x\",\n",
    "    axis_title_y=\"x2\",\n",
    "    axis_title_z=\"Core temperature\"\n",
    ")\n",
    "# Add our datapoints to it and display\n",
    "fig.add_scatter3d(x=dataset.protein_content_of_last_meal, y=dataset.protein_content_of_last_meal**2, z=dataset.core_temperature, mode='markers')\n",
    "fig.show()"
   ],
   "metadata": {
    "id": "MNkv0ZqK3orX",
    "executionInfo": {
     "status": "ok",
     "timestamp": 1727078198845,
     "user_tz": -60,
     "elapsed": 711,
     "user": {
      "displayName": "Korede david",
      "userId": "04917254983458292970"
     }
    },
    "outputId": "8c96901f-8e74-46d6-c889-802397557967",
    "colab": {
     "base_uri": "https://localhost:8080/",
     "height": 504
    }
   },
   "execution_count": 9,
   "outputs": []
  },
  {
   "cell_type": "code",
   "source": [
    "# Show an extrapolated graph of the linear model\n",
    "graphing.scatter_2D(dataset, label_x=\"protein_content_of_last_meal\",\n",
    "                             label_y=\"core_temperature\",\n",
    "                             # We extrapolate over the following range\n",
    "                             x_range = [0,100],\n",
    "                             trendline=lambda x: simple_model.params[1] * x + simple_model.params[0])\n"
   ],
   "metadata": {
    "colab": {
     "base_uri": "https://localhost:8080/",
     "height": 504
    },
    "id": "7p5QPnWn4fS1",
    "executionInfo": {
     "status": "ok",
     "timestamp": 1727078205698,
     "user_tz": -60,
     "elapsed": 811,
     "user": {
      "displayName": "Korede david",
      "userId": "04917254983458292970"
     }
    },
    "outputId": "fdc8f6a4-b113-411f-defe-514adfb84dc5"
   },
   "execution_count": 10,
   "outputs": []
  },
  {
   "cell_type": "code",
   "source": [
    "# Show an extrapolated graph of the polynomial model\n",
    "graphing.scatter_2D(dataset, label_x=\"protein_content_of_last_meal\",\n",
    "                             label_y=\"core_temperature\",\n",
    "                             # We extrapolate over the following range\n",
    "                             x_range = [0,100],\n",
    "                             trendline=lambda x: polynomial_model.params[2] * x**2 + polynomial_model.params[1] * x + polynomial_model.params[0])\n"
   ],
   "metadata": {
    "id": "cyNx1wxT4xrz",
    "executionInfo": {
     "status": "ok",
     "timestamp": 1727078285413,
     "user_tz": -60,
     "elapsed": 611,
     "user": {
      "displayName": "Korede david",
      "userId": "04917254983458292970"
     }
    },
    "outputId": "6ca51481-fb4b-479c-88f2-e38b75a74144",
    "colab": {
     "base_uri": "https://localhost:8080/",
     "height": 504
    }
   },
   "execution_count": 11,
   "outputs": []
  }
 ]
}
